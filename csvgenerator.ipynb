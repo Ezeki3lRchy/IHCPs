{
 "cells": [
  {
   "cell_type": "code",
   "execution_count": 2,
   "metadata": {},
   "outputs": [],
   "source": [
    "import os\n",
    "import pandas as pd\n",
    "\n",
    "env_var = os.path.normpath('/home/linux/IHCPs/dataset_pm1000_sin')\n",
    "input_path = os.path.join(env_var, 'input')\n",
    "output_path = os.path.join(env_var, 'output')\n",
    "\n",
    "data = []\n",
    "\n",
    "for folder_name in sorted(os.listdir(input_path)):\n",
    "    input_folder = os.path.join(input_path, folder_name)\n",
    "    output_folder = os.path.join(output_path, folder_name)\n",
    "\n",
    "    if os.path.isdir(input_folder) and os.path.isdir(output_folder):\n",
    "        data.append({'folder_name': folder_name, 'input_folder': input_folder, 'output_folder': output_folder})\n",
    "\n",
    "df = pd.DataFrame(data)\n",
    "df.to_csv(os.path.join(env_var, 'dataset_info.csv'), index=False)"
   ]
  }
 ],
 "metadata": {
  "kernelspec": {
   "display_name": "Python 3",
   "language": "python",
   "name": "python3"
  },
  "language_info": {
   "codemirror_mode": {
    "name": "ipython",
    "version": 3
   },
   "file_extension": ".py",
   "mimetype": "text/x-python",
   "name": "python",
   "nbconvert_exporter": "python",
   "pygments_lexer": "ipython3",
   "version": "3.11.9"
  }
 },
 "nbformat": 4,
 "nbformat_minor": 2
}
