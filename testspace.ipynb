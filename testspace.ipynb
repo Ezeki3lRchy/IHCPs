{
 "cells": [
  {
   "cell_type": "code",
   "execution_count": 2,
   "metadata": {},
   "outputs": [],
   "source": [
    "import pandas as pd\n",
    "import numpy as np\n",
    "\n",
    "# Load the CSV file into a DataFrame\n",
    "history_df = pd.read_csv('/home/linux/IHCPs/Movi-LSTM-model_2024-09-01_UTC_10frame_constant_nonpretrained/training_history_constant.csv')\n",
    "\n",
    "\n",
    "# Check if 'mean_squared_error' and 'val_mean_squared_error' exist in the DataFrame\n",
    "if 'mean_squared_error' in history_df.columns and 'val_mean_squared_error' in history_df.columns:\n",
    "    history_df['rmse'] = np.sqrt(history_df['mean_squared_error'])\n",
    "    history_df['val_rmse'] = np.sqrt(history_df['val_mean_squared_error'])\n",
    "else:\n",
    "    print(\"MSE columns not found in the CSV.\")\n",
    "\n",
    "\n",
    "# Save the updated DataFrame to a new CSV file\n",
    "history_df.to_csv('/home/linux/IHCPs/Movi-LSTM-model_2024-09-01_UTC_10frame_constant_nonpretrained/training_history_constant.csv', float_format='%.15f', index=False)\n"
   ]
  },
  {
   "cell_type": "code",
   "execution_count": 1,
   "metadata": {},
   "outputs": [
    {
     "name": "stdout",
     "output_type": "stream",
     "text": [
      "The RGB value of the pixel at (193, 156) is: (76, 1, 94)\n"
     ]
    }
   ],
   "source": [
    "from PIL import Image\n",
    "\n",
    "# Open the image file\n",
    "image = Image.open('result_sin/ground_truth/ground_truth_3.png')\n",
    "\n",
    "# Convert the image to RGB mode if not already\n",
    "image = image.convert('RGB')\n",
    "\n",
    "# Get the color of a specific pixel (example at the center)\n",
    "# Change (x, y) coordinates to the pixel you are interested in\n",
    "x, y = image.width // 2, image.height // 2\n",
    "rgb_value = image.getpixel((x, y))\n",
    "\n",
    "print(f'The RGB value of the pixel at ({x}, {y}) is: {rgb_value}')"
   ]
  }
 ],
 "metadata": {
  "kernelspec": {
   "display_name": "Python 3",
   "language": "python",
   "name": "python3"
  },
  "language_info": {
   "codemirror_mode": {
    "name": "ipython",
    "version": 3
   },
   "file_extension": ".py",
   "mimetype": "text/x-python",
   "name": "python",
   "nbconvert_exporter": "python",
   "pygments_lexer": "ipython3",
   "version": "3.8.10"
  }
 },
 "nbformat": 4,
 "nbformat_minor": 2
}
